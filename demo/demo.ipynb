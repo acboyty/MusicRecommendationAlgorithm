{
 "metadata": {
  "language_info": {
   "codemirror_mode": {
    "name": "ipython",
    "version": 3
   },
   "file_extension": ".py",
   "mimetype": "text/x-python",
   "name": "python",
   "nbconvert_exporter": "python",
   "pygments_lexer": "ipython3",
   "version": "3.7.1-final"
  },
  "orig_nbformat": 2,
  "kernelspec": {
   "name": "python_defaultSpec_1599571697171",
   "display_name": "Python 3.7.1 64-bit ('common': conda)"
  }
 },
 "nbformat": 4,
 "nbformat_minor": 2,
 "cells": [
  {
   "cell_type": "code",
   "execution_count": 1,
   "metadata": {
    "tags": []
   },
   "outputs": [
    {
     "output_type": "stream",
     "name": "stdout",
     "text": "userId  movieId  rating  timestamp\n0        1        1     4.0  964982703\n1        1        3     4.0  964981247\n2        1        6     4.0  964982224\n3        1       47     5.0  964983815\n4        1       50     5.0  964982931\n5        1       70     3.0  964982400\n6        1      101     5.0  964980868\n7        1      110     4.0  964982176\n8        1      151     5.0  964984041\n9        1      157     5.0  964984100\n10       1      163     5.0  964983650\n11       1      216     5.0  964981208\n12       1      223     3.0  964980985\n13       1      231     5.0  964981179\n14       1      235     4.0  964980908\n15       1      260     5.0  964981680\n16       1      296     3.0  964982967\n17       1      316     3.0  964982310\n18       1      333     5.0  964981179\n19       1      349     4.0  964982563\n"
    }
   ],
   "source": [
    "import pandas as pd\n",
    "ratings = pd.read_csv('./ml-latest-small/ratings.csv')    \n",
    "print(ratings.head(20)) "
   ]
  },
  {
   "cell_type": "code",
   "execution_count": 2,
   "metadata": {
    "tags": []
   },
   "outputs": [
    {
     "output_type": "stream",
     "name": "stdout",
     "text": "movieId                               title  \\\n0        1                    Toy Story (1995)   \n1        2                      Jumanji (1995)   \n2        3             Grumpier Old Men (1995)   \n3        4            Waiting to Exhale (1995)   \n4        5  Father of the Bride Part II (1995)   \n\n                                        genres  \n0  Adventure|Animation|Children|Comedy|Fantasy  \n1                   Adventure|Children|Fantasy  \n2                               Comedy|Romance  \n3                         Comedy|Drama|Romance  \n4                                       Comedy  \n"
    }
   ],
   "source": [
    "movies = pd.read_csv('./ml-latest-small/movies.csv') \n",
    "print(movies.head(5))"
   ]
  },
  {
   "cell_type": "code",
   "execution_count": 3,
   "metadata": {
    "tags": []
   },
   "outputs": [
    {
     "output_type": "stream",
     "name": "stdout",
     "text": "movieId             title                                       genres  \\\n0        1  Toy Story (1995)  Adventure|Animation|Children|Comedy|Fantasy   \n1        1  Toy Story (1995)  Adventure|Animation|Children|Comedy|Fantasy   \n2        1  Toy Story (1995)  Adventure|Animation|Children|Comedy|Fantasy   \n3        1  Toy Story (1995)  Adventure|Animation|Children|Comedy|Fantasy   \n4        1  Toy Story (1995)  Adventure|Animation|Children|Comedy|Fantasy   \n\n   userId  rating   timestamp  \n0       1     4.0   964982703  \n1       5     4.0   847434962  \n2       7     4.5  1106635946  \n3      15     2.5  1510577970  \n4      17     4.5  1305696483  \n   userId  rating  movieId                       title\n0       1     4.0        1            Toy Story (1995)\n1       1     4.0     1777  Wedding Singer, The (1998)\n2       1     5.0     1732    Big Lebowski, The (1998)\n3       1     3.0     1676    Starship Troopers (1997)\n4       1     5.0       50  Usual Suspects, The (1995)\n"
    }
   ],
   "source": [
    "data = pd.merge(movies, ratings, on='movieId')\n",
    "print(data.head(5))\n",
    "data = data[['userId','rating','movieId','title']].sort_values('userId').to_csv('./ml-latest-small/data.csv', index=False, encoding='utf8')\n",
    "files = pd.read_csv('./ml-latest-small/data.csv')\n",
    "print(files.head(5))"
   ]
  },
  {
   "cell_type": "code",
   "execution_count": 4,
   "metadata": {
    "tags": []
   },
   "outputs": [
    {
     "output_type": "stream",
     "name": "stdout",
     "text": "100837 [['userId', 'rating', 'movieId', 'title'], ['1', '4.0', '1', 'Toy Story (1995)']]\n610 {'Summer of Sam (1999)': '4.0', 'Stir of Echoes (1999)': '3.0', 'Civil Action, A (1998)': '3.0', 'Austin Powers: The Spy Who Shagged Me (1999)': '3.0', 'Rushmore (1998)': '5.0', 'Pushing Tin (1999)': '2.0', 'Gone in 60 Seconds (2000)': '4.0', 'Go (1999)': '4.0', \"Boys Don't Cry (1999)\": '4.0', 'Ravenous (1999)': '4.0', 'Velvet Goldmine (1998)': '3.0', 'Dead Calm (1989)': '4.0', 'Sixth Sense, The (1999)': '4.0', 'Exotica (1994)': '4.0', 'Mystery Men (1999)': '2.0', 'Man on the Moon (1999)': '5.0', 'Croupier (1998)': '4.0', 'Fight Club (1999)': '5.0', 'Higher Learning (1995)': '2.0', 'Doors, The (1991)': '5.0', 'Deep Blue Sea (1999)': '3.0', 'Bone Collector, The (1999)': '2.0', 'Star Wars: Episode VI - Return of the Jedi (1983)': '4.0', 'Pacific Heights (1990)': '4.0', 'South Park: Bigger, Longer and Uncut (1999)': '4.0', 'Little Voice (1998)': '3.0', 'American Pie (1999)': '4.0', 'Gladiator (2000)': '4.0', 'Beach, The (2000)': '4.0', '20 Dates (1998)': '1.0', 'Clerks (1994)': '4.0', 'Election (1999)': '5.0', 'Blind Date (1987)': '1.0', 'Mission: Impossible II (2000)': '1.0', 'Chicken Run (2000)': '4.0', 'Office Space (1999)': '3.0', 'Bowfinger (1999)': '2.0', 'Abyss, The (1989)': '4.0', 'Fantasia 2000 (1999)': '4.0', 'Arlington Road (1999)': '4.0', 'Magnolia (1999)': '4.0', 'Sleepy Hollow (1999)': '4.0', 'Cruel Intentions (1999)': '3.0', 'X-Men (2000)': '4.0', 'Galaxy Quest (1999)': '4.0', 'American Beauty (1999)': '4.0', 'Being John Malkovich (1999)': '5.0', 'Naked Gun 33 1/3: The Final Insult (1994)': '2.0', 'Kingpin (1996)': '3.0', 'Shakespeare in Love (1998)': '4.0', 'Eyes Wide Shut (1999)': '5.0', 'Payback (1999)': '2.0', 'Boiler Room (2000)': '4.0', 'Sweet Hereafter, The (1997)': '5.0', 'Ghostbusters (a.k.a. Ghost Busters) (1984)': '4.0', 'Happiness (1998)': '5.0', \"Angela's Ashes (1999)\": '3.0', 'Run Lola Run (Lola rennt) (1998)': '4.0', 'Me, Myself & Irene (2000)': '2.0', 'Big Daddy (1999)': '3.0', 'eXistenZ (1999)': '4.0'}\n"
    }
   ],
   "source": [
    "import csv\n",
    "\n",
    "# read data.csv\n",
    "content = []\n",
    "with open('./ml-latest-small/data.csv', encoding='utf8') as fp:  \n",
    "    cr = csv.reader(fp)\n",
    "    for row in cr:\n",
    "        # print(row)\n",
    "        content.append(row)\n",
    "print(len(content), content[:2])\n",
    "\n",
    "# from list to dictionary\n",
    "data = {}\n",
    "for line in content[1:]:  # delete the first row\n",
    "    # print(line)\n",
    "    if line[0] not in data.keys():\n",
    "        data[line[0]] = {line[3]:line[1]}\n",
    "    else:\n",
    "        data[line[0]][line[3]] = line[1]\n",
    "print(len(data), data['101'])"
   ]
  },
  {
   "cell_type": "code",
   "execution_count": 5,
   "metadata": {
    "tags": []
   },
   "outputs": [
    {
     "output_type": "stream",
     "name": "stdout",
     "text": "[('77', 0.0), ('85', 0.0), ('253', 0.0), ('291', 0.0), ('511', 0.2041241452319315), ('278', 0.28867513459481287), ('550', 0.28867513459481287), ('366', 0.31622776601683794), ('472', 0.3535533905932738), ('49', 0.3779644730092272)]\n"
    }
   ],
   "source": [
    "from math import *\n",
    "\n",
    "# compute the distance between 2 users\n",
    "def Euclidean(user1, user2):\n",
    "    user1_data=data[user1]\n",
    "    user2_data=data[user2]\n",
    "    distance = 0\n",
    "    count = 0\n",
    "    # find movies that 2 users both give ratings, and compute distance\n",
    "    for key in user1_data.keys():\n",
    "        if key in user2_data.keys():\n",
    "            distance += pow(float(user1_data[key]) - float(user2_data[key]), 2)\n",
    "            count += 1\n",
    "    if count > 0:\n",
    "        distance = sqrt(distance / count)  # [0, 5]\n",
    "    else:\n",
    "        distance = 5.5  # if 2 users have a same movie, the greatest distance is 5\n",
    " \n",
    "    return distance  # the smaller, the more similar\n",
    " \n",
    "# compute the similarity with other users\n",
    "def top10_simliar(userID):\n",
    "    res = []\n",
    "    for userid in data.keys():\n",
    "        if not userid == userID:\n",
    "            simliarity = Euclidean(userID,userid)\n",
    "            res.append((userid, simliarity))\n",
    "    res.sort(key=lambda val:val[1])\n",
    "    return res[:10]\n",
    " \n",
    "res = top10_simliar('1')\n",
    "print(res)"
   ]
  },
  {
   "cell_type": "code",
   "execution_count": 6,
   "metadata": {
    "tags": []
   },
   "outputs": [
    {
     "output_type": "stream",
     "name": "stdout",
     "text": "[('Incredibles, The (2004)', '5.0'), ('Star Wars: Episode II - Attack of the Clones (2002)', '5.0'), ('Lord of the Rings: The Fellowship of the Ring, The (2001)', '5.0'), ('Harry Potter and the Chamber of Secrets (2002)', '5.0'), ('Spider-Man 2 (2004)', '5.0'), ('Batman Begins (2005)', '5.0'), ('Spider-Man (2002)', '5.0'), ('Lord of the Rings: The Return of the King, The (2003)', '5.0'), ('Dark Knight, The (2008)', '5.0'), ('Lord of the Rings: The Two Towers, The (2002)', '5.0')]\n"
    }
   ],
   "source": [
    "def recommend(user):\n",
    "    top_sim_user = top10_simliar(user)[0][0]\n",
    "    items = data[top_sim_user]\n",
    "    recommendations = []\n",
    "    # recommend movies the user did not watch\n",
    "    for item in items.keys():\n",
    "        if item not in data[user].keys():\n",
    "            recommendations.append((item, items[item]))\n",
    "    recommendations.sort(key=lambda val:val[1], reverse=True)\n",
    "    return recommendations[:10]  # return 10 movies with highest ratings\n",
    " \n",
    "Recommendations = recommend('1')\n",
    "print(Recommendations)"
   ]
  }
 ]
}