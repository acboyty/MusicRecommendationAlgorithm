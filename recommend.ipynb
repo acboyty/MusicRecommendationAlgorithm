{
 "metadata": {
  "language_info": {
   "codemirror_mode": {
    "name": "ipython",
    "version": 3
   },
   "file_extension": ".py",
   "mimetype": "text/x-python",
   "name": "python",
   "nbconvert_exporter": "python",
   "pygments_lexer": "ipython3",
   "version": "3.7.7-final"
  },
  "orig_nbformat": 2,
  "kernelspec": {
   "name": "python_defaultSpec_1600406872973",
   "display_name": "Python 3.7.7 64-bit ('tao': conda)"
  }
 },
 "nbformat": 4,
 "nbformat_minor": 2,
 "cells": [
  {
   "cell_type": "code",
   "execution_count": 22,
   "metadata": {
    "tags": []
   },
   "outputs": [
    {
     "output_type": "stream",
     "name": "stdout",
     "text": "df.shape: (5950, 5)\n                                                  歌名    时间               歌手  \\\n0                Fashion Blogger - (Fashion Blogger)  4:37         RHYME SO   \n1                 Comme Des Gar??ons (Like The Boys)  3:01    Rina Sawayama   \n2  Transcend (Kan Sano Remix) feat. Armi (Up Dhar...  3:34            Ovall   \n3                                               御伽の街  3:23            DAOKO   \n4                                              MAIGO  3:52  SIRUP/Joe Hertz   \n\n              专辑名字            歌单名称  \n0  Fashion Blogger  【日语】听这些就可以走路带风  \n1         SAWAYAMA  【日语】听这些就可以走路带风  \n2    Ovall Reworks  【日语】听这些就可以走路带风  \n3             御伽の街  【日语】听这些就可以走路带风  \n4              CIY  【日语】听这些就可以走路带风  \n                 歌名    时间              歌手    专辑名字        歌单名称\n5945     曹操（翻自 林俊杰）  0:24            是你的垚      曹操  又是一个睡不着的夜晚\n5946    重演（翻自 王巨星）   0:39         守夜冠军专用证  睡前的小豆豆  又是一个睡不着的夜晚\n5947  背对背拥抱（翻自 林俊杰）  0:33  Bater official   迷人的危险  又是一个睡不着的夜晚\n5948    无人之岛（翻自 任然）  1:04             暴躁默    无人之岛  又是一个睡不着的夜晚\n5949    有我呢（翻自 郭一凡）  0:36           迷人耗子精     有我呢  又是一个睡不着的夜晚\n"
    }
   ],
   "source": [
    "import pandas as pd \n",
    "\n",
    "df = pd.read_csv('./datasets/music-list/data_5950.csv', encoding='GB18030')  # wrong with GB2312, GB2312 < GBK < GB18030\n",
    "print(f'df.shape: {df.shape}')\n",
    "print(df.head())\n",
    "print(df.tail())"
   ]
  },
  {
   "cell_type": "code",
   "execution_count": 23,
   "metadata": {
    "tags": []
   },
   "outputs": [
    {
     "output_type": "stream",
     "name": "stdout",
     "text": "刷题 看书 学习 工作 冥想: {'A Minute For The End', '君の粉色妄言', '你 能 來 保 護 我 的 世 界 嘛', 'Awaken the Dawn', '4月22日 北风', '雨 因你而下，于你而止', '桜の廊下のあなた', 'senja', '繚 星', '星河清梦'}\n无人之岛（翻自 任然）: {'伤感翻唱版集合', '又是一个睡不着的夜晚'}\nlength of lst2music: 594, length of music2lst: 4631\n"
    }
   ],
   "source": [
    "lst2music = {}  # music list to musics\n",
    "music2lst = {}  # music to music lists\n",
    "for i in range(len(df)):\n",
    "    music = df.iloc[i]['歌名']\n",
    "    lst = df.iloc[i]['歌单名称']\n",
    "    if lst not in lst2music:\n",
    "        lst2music[lst] = {music}\n",
    "    else:\n",
    "        lst2music[lst].add(music)\n",
    "    if music not in music2lst:\n",
    "        music2lst[music] = {lst}\n",
    "    else:\n",
    "        music2lst[music].add(lst)\n",
    "print('刷题 看书 学习 工作 冥想:', lst2music['刷题 看书 学习 工作 冥想'])\n",
    "print('无人之岛（翻自 任然）:', music2lst['无人之岛（翻自 任然）'])\n",
    "print(f'length of lst2music: {len(lst2music)}, length of music2lst: {len(music2lst)}')"
   ]
  },
  {
   "cell_type": "code",
   "execution_count": 24,
   "metadata": {
    "tags": []
   },
   "outputs": [
    {
     "output_type": "stream",
     "name": "stdout",
     "text": "5.0\n"
    }
   ],
   "source": [
    "def lst_dist(lst1, lst2):\n",
    "    '''\n",
    "    calculate distance between 2 music lists\n",
    "    '''\n",
    "    cnt = len(lst1 & lst2)\n",
    "    return 10 / (1 + cnt)  # the smaller, the similar\n",
    "\n",
    "print(lst_dist(lst2music['伤感翻唱版集合'], lst2music['又是一个睡不着的夜晚']))"
   ]
  },
  {
   "cell_type": "code",
   "execution_count": 25,
   "metadata": {
    "tags": []
   },
   "outputs": [
    {
     "output_type": "stream",
     "name": "stdout",
     "text": "5.0\n"
    }
   ],
   "source": [
    "def music_dist(music1, music2):\n",
    "    '''\n",
    "    calculate the distance between 2 musics\n",
    "    '''\n",
    "    cnt = len(music2lst[music1] & music2lst[music2])\n",
    "    return 10 / (1 + cnt)  # the smaller, the similar\n",
    "\n",
    "print(music_dist('星河清梦', '繚 星'))"
   ]
  },
  {
   "cell_type": "code",
   "execution_count": 26,
   "metadata": {
    "tags": []
   },
   "outputs": [
    {
     "output_type": "stream",
     "name": "stdout",
     "text": "({'夏 日 喝 汽 水 lofi', '我 去 宇 宙 偷 星 星，放 在 夜 里 等 你??', '浮生若梦', '银河赴约 - (网易云音乐助力高考自制曲目)', '你 能 來 保 護 我 的 世 界 嘛', '等', '风的小径', '夜里失联', '这个深海是你的眼眸', '奇怪吗'}, 5.0)\n"
    }
   ],
   "source": [
    "def most_similar_lst(lst):\n",
    "    '''\n",
    "    get the most similar music list\n",
    "    '''\n",
    "    cur_lst, cur_dist = [], 15\n",
    "    for lst_ in lst2music.keys():\n",
    "        temp_dist = lst_dist(lst, lst2music[lst_])\n",
    "        if lst2music[lst_] != lst and temp_dist < cur_dist:\n",
    "            cur_lst = lst2music[lst_]\n",
    "            cur_dist = temp_dist\n",
    "    return cur_lst, cur_dist\n",
    "\n",
    "print(most_similar_lst(lst2music['刷题 看书 学习 工作 冥想']))"
   ]
  },
  {
   "cell_type": "code",
   "execution_count": 27,
   "metadata": {
    "tags": []
   },
   "outputs": [
    {
     "output_type": "stream",
     "name": "stdout",
     "text": "('好想好想（翻自 群星）', 5.0)\n"
    }
   ],
   "source": [
    "def most_similar_music(music):\n",
    "    '''\n",
    "    get the most similar music\n",
    "    '''\n",
    "    cur_music, cur_dist = '', 15\n",
    "    for music_ in music2lst.keys():\n",
    "        temp_dist = music_dist(music, music_)\n",
    "        if music_ != music and temp_dist < cur_dist:\n",
    "            cur_music = music_\n",
    "            cur_dist = temp_dist\n",
    "    return cur_music, cur_dist\n",
    "\n",
    "print(most_similar_music('无人之岛（翻自 任然）'))"
   ]
  },
  {
   "cell_type": "code",
   "execution_count": 28,
   "metadata": {
    "tags": []
   },
   "outputs": [
    {
     "output_type": "stream",
     "name": "stdout",
     "text": "{'永不失联的爱', '多远都要在一起', '你的样子', '想い', '是想你的声音啊 - (你快听 滴答滴)', '古诗中国', '心领神会', '你还好吗', '不爱我', '玻璃之情', '或是一首歌', '那个她', '秋海棠', '看见你的声音 - (电视剧《想见你》插曲)', '好想好想（翻自 群星）'}\n"
    }
   ],
   "source": [
    "def recommend(lst):\n",
    "    '''\n",
    "    recommend according to music list\n",
    "    '''\n",
    "    # User-based Collaborative Filtering\n",
    "    UserCF = most_similar_lst(lst)[0] - lst\n",
    "\n",
    "    # Item-based Collaborative Filtering\n",
    "    ItemCF = []\n",
    "    for music in lst:\n",
    "        ItemCF.append(most_similar_music(music)[0])\n",
    "    ItemCF = set(ItemCF) - lst\n",
    "    \n",
    "    return UserCF | ItemCF\n",
    "\n",
    "print(recommend({'呼吸', '无人之岛（翻自 任然）', '水星记', '像鱼', '大鱼 - (动画电影《大鱼海棠》印象曲)', '千千阙歌(Live)', '心はいつもあなたのそばに Piano'}))"
   ]
  }
 ]
}